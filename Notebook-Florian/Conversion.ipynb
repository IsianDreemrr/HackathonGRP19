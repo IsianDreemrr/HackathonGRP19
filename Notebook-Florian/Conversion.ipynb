{
 "cells": [
  {
   "cell_type": "code",
   "execution_count": 1,
   "metadata": {},
   "outputs": [],
   "source": [
    "import xml.etree.ElementTree as ET\n",
    "import csv\n",
    " \n",
    "def xml_to_csv(xml_file, csv_file):\n",
    "    tree = ET.parse(xml_file)\n",
    "    root = tree.getroot()\n",
    " \n",
    "    # Ouvrir le fichier CSV pour écrire\n",
    "    with open(csv_file, mode='w', newline='', encoding='utf-8') as file:\n",
    "        writer = csv.writer(file)\n",
    " \n",
    "        # Écrire l'en-tête CSV\n",
    "        header = [\"index\", \"game_slug\", \"game_end_date\", \"game_start_date\", \"game_location\", \"game_name\", \"game_season\", \"game_year\"]\n",
    "        writer.writerow(header)\n",
    " \n",
    "        # Écrire les données de chaque ligne du fichier XML\n",
    "        for row in root.findall('row'):\n",
    "            index = row.find('index').text\n",
    "            game_slug = row.find('game_slug').text\n",
    "            game_end_date = row.find('game_end_date').text\n",
    "            game_start_date = row.find('game_start_date').text\n",
    "            game_location = row.find('game_location').text\n",
    "            game_name = row.find('game_name').text\n",
    "            game_season = row.find('game_season').text\n",
    "            game_year = row.find('game_year').text\n",
    " \n",
    "            writer.writerow([index, game_slug, game_end_date, game_start_date, game_location, game_name, game_season, game_year])\n",
    " \n",
    "# Utiliser la fonction\n",
    "xml_file = 'dataset/olympic_hosts.xml'  # Remplacer par le chemin de votre fichier XML\n",
    "csv_file = 'data.csv'  # Remplacer par le chemin où vous souhaitez enregistrer le fichier CSV\n",
    "xml_to_csv(xml_file, csv_file)"
   ]
  },
  {
   "cell_type": "code",
   "execution_count": 1,
   "metadata": {},
   "outputs": [],
   "source": [
    "import pandas as pd\n",
    "\n",
    "with open('dataset\\sources\\olympic_athletes.json', encoding='utf-8') as inputfile:\n",
    "    df = pd.read_json(inputfile)\n",
    "\n",
    "df.to_csv('output.csv', encoding='utf-8', index=False)\n"
   ]
  },
  {
   "cell_type": "code",
   "execution_count": 2,
   "metadata": {},
   "outputs": [],
   "source": [
    "from bs4 import BeautifulSoup\n",
    "import csv\n",
    " \n",
    "# Lire le contenu du fichier HTML\n",
    "with open('dataset/olympic_results.html', 'r', encoding='utf-8') as file:\n",
    "    html_content = file.read()\n",
    " \n",
    "# Analyser le contenu HTML\n",
    "soup = BeautifulSoup(html_content, 'html.parser')"
   ]
  },
  {
   "cell_type": "code",
   "execution_count": 3,
   "metadata": {},
   "outputs": [
    {
     "name": "stdout",
     "output_type": "stream",
     "text": [
      "Conversion terminée. Le fichier CSV a été sauvegardé sous le nom output.csv.\n"
     ]
    }
   ],
   "source": [
    " \n",
    "# Extraire les en-têtes\n",
    "headers = [header.text for header in soup.find('thead').find_all('th')]\n",
    " \n",
    "# Extraire les lignes\n",
    "rows = []\n",
    "for row in soup.find('tbody').find_all('tr'):\n",
    "    cells = row.find_all('td')\n",
    "    rows.append([cell.text for cell in cells])\n",
    " \n",
    "# Écrire les données dans un fichier CSV\n",
    "csv_filename = 'output.csv'\n",
    "with open(csv_filename, 'w', newline='', encoding='utf-8') as csvfile:\n",
    "    csvwriter = csv.writer(csvfile)\n",
    "    csvwriter.writerow(headers[1:])  # Ignorer le premier en-tête vide\n",
    "    csvwriter.writerows(rows)\n",
    " \n",
    "print(f\"Conversion terminée. Le fichier CSV a été sauvegardé sous le nom {csv_filename}.\")\n",
    " "
   ]
  }
 ],
 "metadata": {
  "kernelspec": {
   "display_name": "Python 3",
   "language": "python",
   "name": "python3"
  },
  "language_info": {
   "codemirror_mode": {
    "name": "ipython",
    "version": 3
   },
   "file_extension": ".py",
   "mimetype": "text/x-python",
   "name": "python",
   "nbconvert_exporter": "python",
   "pygments_lexer": "ipython3",
   "version": "3.10.0"
  }
 },
 "nbformat": 4,
 "nbformat_minor": 2
}
