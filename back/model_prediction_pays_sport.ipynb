{
 "cells": [
  {
   "cell_type": "code",
   "execution_count": 153,
   "metadata": {},
   "outputs": [],
   "source": [
    "from flask import jsonify\n",
    "from connect_db import execute_query\n",
    "import pandas as pd\n",
    "import pickle\n",
    "import numpy as np\n",
    "from app import app  # Importer l'application Flask"
   ]
  },
  {
   "cell_type": "code",
   "execution_count": 154,
   "metadata": {},
   "outputs": [],
   "source": [
    "from sklearn.ensemble import GradientBoostingClassifier\n",
    "from sklearn.model_selection import train_test_split\n",
    "from sklearn.metrics import accuracy_score\n",
    "from sklearn.preprocessing import LabelEncoder"
   ]
  },
  {
   "cell_type": "code",
   "execution_count": 155,
   "metadata": {},
   "outputs": [
    {
     "name": "stdout",
     "output_type": "stream",
     "text": [
      "Connexion réussie\n",
      "Connexion fermée\n"
     ]
    }
   ],
   "source": [
    "# clean_olympic_results\n",
    "# id\tdiscipline_title\tevent_title\tslug_game\tparticipant_type\tmedal_type\tathletes\trank_equal\trank_position\tcountry_name\tcountry_code\tcountry_3_letter_code\n",
    "def load_data_from_database():\n",
    "    with app.app_context():\n",
    "        query = \"SELECT * FROM clean_olympic_results\"\n",
    "        results_data = execute_query(query)\n",
    "        results_df = pd.DataFrame(results_data)\n",
    "    \n",
    "    return results_df\n",
    "\n",
    "# Charger les données\n",
    "results_df = load_data_from_database()"
   ]
  },
  {
   "cell_type": "code",
   "execution_count": 156,
   "metadata": {},
   "outputs": [
    {
     "name": "stdout",
     "output_type": "stream",
     "text": [
      "Accuracy: 0.9973768928103016\n"
     ]
    }
   ],
   "source": [
    "# Prediction pour le top 5 des pays pour chaque discipline\n",
    "results_df = results_df[results_df['rank_position'] <= 5]\n",
    "\n",
    "# Supprimer la colonne 'athletes'\n",
    "if 'athletes' in results_df.columns:\n",
    "    results_df.drop(columns=['athletes'], inplace=True)\n",
    "    # Supprimer la colonne 'id'\n",
    "    results_df.drop(columns=['id'], inplace=True)\n",
    "\n",
    "# supprimer une valeur rugby\n",
    "results_df = results_df[results_df['discipline_title'] != 'Rugby']\n",
    "\n",
    "# Supprimer les lignes avec des valeurs NaN\n",
    "results_df.dropna(inplace=True)\n",
    "\n",
    "# Encoder les variables catégorielles\n",
    "encoder = LabelEncoder()\n",
    "categorical_columns = ['discipline_title', 'event_title', 'participant_type', 'medal_type', 'country_name', 'country_code', 'country_3_letter_code', 'slug_game', 'rank_equal', 'rank_position']\n",
    "for column in categorical_columns:\n",
    "    results_df[column] = encoder.fit_transform(results_df[column])\n",
    "    \n",
    "# Séparer les données en variables explicatives et variable cible\n",
    "X = results_df.drop(columns=['medal_type'])\n",
    "y = results_df['medal_type']\n",
    "\n",
    "# Séparer les données en données d'entraînement et données de test\n",
    "X_train, X_test, y_train, y_test = train_test_split(X, y, test_size=0.2, random_state=42)\n",
    "\n",
    "# Créer le modèle\n",
    "model = GradientBoostingClassifier(n_estimators=100, learning_rate=1.0, max_depth=1, random_state=42)\n",
    "model.fit(X_train, y_train)\n",
    "\n",
    "# Prédire les données de test\n",
    "y_pred = model.predict(X_test)\n",
    "\n",
    "# Calculer la précision du modèle\n",
    "accuracy = accuracy_score(y_test, y_pred)\n",
    "print(f\"Accuracy: {accuracy}\")"
   ]
  },
  {
   "cell_type": "code",
   "execution_count": 128,
   "metadata": {},
   "outputs": [
    {
     "name": "stdout",
     "output_type": "stream",
     "text": [
      "[52 23 14 21 31 11  3 35 50 19 64 56 59 13 42 63 66  8 60 22 29  5 68 55\n",
      " 70 61  2 32 18 39 53  1 69  7 24 43  4 57 51 20 48 40  0 46 36 10 17 49\n",
      " 34 28 33 58 62 27 26  6 54 12 44 37 65 25 30 38 67 41 45 47 15 16  9]\n"
     ]
    }
   ],
   "source": [
    "print(results_df['discipline_title'].unique())"
   ]
  },
  {
   "cell_type": "code",
   "execution_count": 152,
   "metadata": {},
   "outputs": [
    {
     "name": "stdout",
     "output_type": "stream",
     "text": [
      "Top 5 countries in Judo:\n",
      "Series([], Name: country_name, dtype: int64)\n"
     ]
    }
   ],
   "source": [
    "judo_results_df = results_df[results_df['discipline_title'] == 'Judo']\n",
    "\n",
    "# Count occurrences and sort by count\n",
    "country_counts = judo_results_df.groupby('country_name')['country_name'].count().sort_values(ascending=False)\n",
    "\n",
    "# Select top 5 countries\n",
    "top_5_judo_countries = country_counts.head(5)\n",
    "\n",
    "# Print the top 5 countries\n",
    "print(\"Top 5 countries in Judo:\")\n",
    "print(top_5_judo_countries)"
   ]
  }
 ],
 "metadata": {
  "kernelspec": {
   "display_name": "base",
   "language": "python",
   "name": "python3"
  },
  "language_info": {
   "codemirror_mode": {
    "name": "ipython",
    "version": 3
   },
   "file_extension": ".py",
   "mimetype": "text/x-python",
   "name": "python",
   "nbconvert_exporter": "python",
   "pygments_lexer": "ipython3",
   "version": "3.11.7"
  }
 },
 "nbformat": 4,
 "nbformat_minor": 2
}
